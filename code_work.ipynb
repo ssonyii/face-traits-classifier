{
 "cells": [
  {
   "cell_type": "markdown",
   "metadata": {
    "id": "j2n1xQdc4CLC"
   },
   "source": [
    "## Libraries"
   ]
  },
  {
   "cell_type": "code",
   "execution_count": null,
   "metadata": {
    "colab": {
     "base_uri": "https://localhost:8080/"
    },
    "executionInfo": {
     "elapsed": 37670,
     "status": "ok",
     "timestamp": 1746886220514,
     "user": {
      "displayName": "Sofya Andreyanova",
      "userId": "09495282049770721127"
     },
     "user_tz": -180
    },
    "id": "nfhGVghF0cQo",
    "outputId": "b0104ab3-034b-4ebc-bf01-be1f830c04cf"
   },
   "outputs": [],
   "source": [
    "from embetter.vision import ImageLoader\n",
    "from embetter.multi import ClipEncoder"
   ]
  },
  {
   "cell_type": "code",
   "execution_count": null,
   "metadata": {
    "executionInfo": {
     "elapsed": 896,
     "status": "ok",
     "timestamp": 1746886221406,
     "user": {
      "displayName": "Sofya Andreyanova",
      "userId": "09495282049770721127"
     },
     "user_tz": -180
    },
    "id": "JP28favD4Fic"
   },
   "outputs": [],
   "source": [
    "import pandas as pd\n",
    "import numpy as np\n",
    "import seaborn as sns\n",
    "import matplotlib.pyplot as plt\n",
    "from pathlib import Path\n",
    "\n",
    "from sklearn.model_selection import train_test_split\n",
    "\n",
    "from sklearn.neighbors import KNeighborsClassifier\n",
    "from sklearn.svm import SVC\n",
    "from sklearn.tree import DecisionTreeClassifier\n",
    "from sklearn.ensemble import RandomForestClassifier, AdaBoostClassifier\n",
    "from sklearn.naive_bayes import GaussianNB\n",
    "from sklearn.discriminant_analysis import LinearDiscriminantAnalysis\n",
    "from sklearn.linear_model import LogisticRegression\n",
    "from xgboost import XGBClassifier\n",
    "\n",
    "from sklearn.metrics import accuracy_score, make_scorer, roc_auc_score\n",
    "\n",
    "from sklearn.pipeline import make_pipeline, Pipeline\n",
    "\n",
    "from sklearn.multioutput import MultiOutputClassifier\n",
    "from sklearn.decomposition import PCA\n",
    "from sklearn.preprocessing import StandardScaler\n",
    "from sklearn.model_selection import GridSearchCV"
   ]
  },
  {
   "cell_type": "code",
   "execution_count": null,
   "metadata": {},
   "outputs": [],
   "source": [
    "from google.colab import drive\n",
    "drive.mount('/content/drive')"
   ]
  },
  {
   "cell_type": "markdown",
   "metadata": {
    "id": "9EZ-wRY85CE1"
   },
   "source": [
    "## Dataset"
   ]
  },
  {
   "cell_type": "code",
   "execution_count": null,
   "metadata": {},
   "outputs": [],
   "source": [
    "import shutil"
   ]
  },
  {
   "cell_type": "code",
   "execution_count": null,
   "metadata": {},
   "outputs": [],
   "source": [
    "all_images_dir = Path(\"/content/drive/MyDrive/course_work/FaceMemorability database/10k US Adult Faces Database/Face Images\")\n",
    "needed_images_dir = Path(\"/content/drive/MyDrive/course_work/FaceMemorability database/needed_images_database\")\n",
    "table = pd.read_excel(\"/content/drive/MyDrive/course_work/FaceMemorability database/Full Attribute Scores/psychology attributes/psychology-attributes.xlsx\")\n",
    "needed_images = table.iloc[:, 0].drop_duplicates()\n",
    "\n",
    "for filename in needed_images:\n",
    "    src = all_images_dir / filename\n",
    "    dst = needed_images_dir / filename\n",
    "    if src.exists():\n",
    "        shutil.copy(src, dst)\n",
    "\n",
    "print(len(list(needed_images_dir.glob(\"*.jpg\")))) # 2222"
   ]
  },
  {
   "cell_type": "code",
   "execution_count": null,
   "metadata": {},
   "outputs": [],
   "source": [
    "traits = ['atypical', 'boring', 'calm', 'cold', 'common', 'confident', 'egotistic',\n",
    "          'emotUnstable', 'forgettable', 'intelligent', 'introverted', 'kind', 'responsible', 'trustworthy',\n",
    "          'unattractive', 'unemotional', 'unfamiliar', 'unfriendly', 'unhappy', 'weird', 'aggressive', 'attractive',\n",
    "          'caring', 'emotStable', 'emotional', 'familiar', 'friendly', 'happy', 'humble', 'interesting', 'irresponsible',\n",
    "          'mean', 'memorable', 'normal', 'sociable', 'typical', 'uncertain', 'uncommon', 'unintelligent', 'untrustworthy']"
   ]
  },
  {
   "cell_type": "code",
   "execution_count": null,
   "metadata": {},
   "outputs": [],
   "source": [
    "table = table.drop(columns=['Image #', 'subID', 'subage', 'submale', 'subrace', 'catch', 'catchAns', 'catch.1', 'catchAns.1', 'subID.1', 'subage.1', 'submale.1', 'subrace.1'])\n",
    "\n",
    "df = pd.DataFrame()\n",
    "\n",
    "for trait in traits:\n",
    "\n",
    "  df_trait = table.groupby(\"Filename\", as_index=False)[trait].mean()\n",
    "  mean_value = df_trait[trait].mean()\n",
    "  df_trait[trait] = (df_trait[trait] > mean_value).astype(int)\n",
    "\n",
    "  if trait == traits[0]:\n",
    "      df = df_trait\n",
    "  else:\n",
    "      df = df.merge(df_trait[['Filename', trait]], on='Filename', how='left')\n",
    "\n",
    "df['Filepath'] = df['Filename'].apply(lambda x: str(needed_images_dir / x))\n",
    "df = df.drop(columns=['Filename'])\n",
    "df.insert(0, 'Filepath', df.pop('Filepath'))\n",
    "\n",
    "df.to_csv('/content/drive/MyDrive/course_work/dataframe_for_learning.csv')"
   ]
  },
  {
   "cell_type": "code",
   "execution_count": null,
   "metadata": {
    "colab": {
     "base_uri": "https://localhost:8080/",
     "height": 439
    },
    "executionInfo": {
     "elapsed": 939,
     "status": "ok",
     "timestamp": 1746886275631,
     "user": {
      "displayName": "Sofya Andreyanova",
      "userId": "09495282049770721127"
     },
     "user_tz": -180
    },
    "id": "mBvJVmgksTin",
    "outputId": "4dd2e517-2005-4574-b48f-f34cb0eee33d"
   },
   "outputs": [],
   "source": [
    "df = pd.read_csv('dataframe_for_learning.csv')\n",
    "\n",
    "df"
   ]
  },
  {
   "cell_type": "code",
   "execution_count": null,
   "metadata": {},
   "outputs": [],
   "source": [
    "image_paths = df[\"Filepath\"]\n",
    "image_paths"
   ]
  },
  {
   "cell_type": "markdown",
   "metadata": {
    "id": "Kx7EbENE5jQA"
   },
   "source": [
    "## Preprocessing"
   ]
  },
  {
   "cell_type": "code",
   "execution_count": null,
   "metadata": {
    "colab": {
     "base_uri": "https://localhost:8080/",
     "height": 510,
     "referenced_widgets": [
      "6fa8617396c041ee928e3958047517ef",
      "7f2cc1d6f66e4c55adc677a060bdbeb9",
      "872664bf3e9746f69d22400b6e3cdd0f",
      "f70a91ba5f6944668e2893fb3d148ef4",
      "92fe8b7ece5d48379be8ed61d0eb0b60",
      "9da79357dd6e43fd8733b27d240d5a8a",
      "10a754a18bde4bccb1be8b964654f7eb",
      "9b63a27e2f174553ab3f267166e175df",
      "7fb92ac464514fcc88361e02198ec857",
      "2056eaed0be547bb8376a32fda0de9be",
      "70d196ca1e10449eab897c9743f67a85",
      "180dab26d9404c6aadf74d5a24104309",
      "10ccdd2b944c457d96241118ae0310cb",
      "b5bf351f3ba140eea3a85d21b3c5eca5",
      "b9e9226091e544b8b027ea1a17084d2b",
      "5b8ef1cc6ee1447d89d6ac3ed963d58a",
      "32afb39ecab341b990aee6e82b58305f",
      "e3bd7bfe992a48d89b78ebd9e1f0e0f8",
      "b125111d5d084ac5a8ca8bfeb2043178",
      "35f050ff267c4f06b4a94ff0f70a9e90",
      "9dd93652430f4ffa953b6e219786ba8f",
      "aa3eb9ff0db94d0a958ed8dddf59dfda",
      "d421a4368fe841c4aa40cf432d9cae09",
      "f47e993bbcb341838008e0f5238dc6a5",
      "2f5030ec2ed244bf9b35742ab37ab268",
      "12192c16ac154bab91eab630ed76a02e",
      "e54210c0283c43818e24d5781b15dcda",
      "2f14d4293bbd41489a52bdf64575c507",
      "661b1cc5d30f425d94ccab98976f7b78",
      "46ff0b3c50c541e3bf9fab9c476095fb",
      "aa3e09b327b04368a115cca477fc682f",
      "73e77a4a77da400883e9cf50ccb58aee",
      "25b3627a063c42819b905d4ca7127ebe",
      "1a941537f0a545efbbd24964051b557e",
      "3a7f5c597e024c9a8ccd20e5cf50607f",
      "f8b813b9d89a48608887387b362b907d",
      "d6643436c4f844dc9a2d0fb4f03b210a",
      "58fa8a29cd964eafacd9fabf2b854bfa",
      "ab420df373cd4db6984e314a2838a252",
      "d2f0c4f95dc043db8e56b442c64a5d63",
      "a19b5ddf71f0410a90bce5c38aef3656",
      "8739588d30d24a628f10aab33d8fd132",
      "5e8281ea1b034151a89f3f3d39b3e3bd",
      "faf08d6598004da698bf54091fd570fb",
      "dae394ebd951427fa9cc624063379e43",
      "9a33cada7d9047f1bfee10699e7eace8",
      "d6f73433d3e44964a6f74aba449dca98",
      "ad17f31ed4814bc8a270d32a50b7e29f",
      "f5e4378d0e6344a7b27238c8fe10db5a",
      "27839487fb5c4d57928674a51513e107",
      "6d087d83cd274c7f96a54743aa9b6a14",
      "a693a2fea5954a4888f6d6cbacf35499",
      "c0e5ea11cf9d4d36b32ec49d2b674ca8",
      "c49c6bc7513645f1886dcd82ee6e6fc2",
      "ac439eeae675410eb9abe5d033151ee3",
      "83a730eee9e74c109829568afa27c896",
      "6111e85f1cd44eae9bdba73463ac7e32",
      "f1bcdf96eb7a4ca1894031cec75a6741",
      "c83c7f5fe88747ab985b15508e79d737",
      "5c141ea5b541416d84dcf1fd27fc44eb",
      "fc5fab1583c34116855f57a572e0c6b7",
      "1a3da144d9314803b62447f869720d33",
      "9943ece90a444759aed3e37a71937659",
      "3888214f325243cda62f5d9a72ab9adc",
      "019585eeda4a47eba2142cd07d20de8c",
      "a7bbcf0db39944e88b59af8f7bef12c1",
      "deb9eb1f334d4a7cbbe71229291334c0",
      "a19934c465b04ad19cfb0f6ebb142ade",
      "0113364c0d2c4853b2e448f08832f734",
      "289bd1cdbb9942599eaa0b8d1360c201",
      "550a3d0bc88e48009da7839c500f306e",
      "8217ab8e552e48ecafe029c252ac392a",
      "9dfc8481057d4b0a8a2fc06955da0fe0",
      "b4a63e5394fb41d9a658819211d46a3b",
      "7cb42001f71741a099e02cb9a2f22236",
      "e2be7dfab2b74c908d5d726602354405",
      "9db6aaad9dd7427cb38e643ef8e2776b",
      "7234e76e1e1c444fa78321d52ca7d4cd",
      "f70487c5a53d4b58a34098a574f23851",
      "ce14aeba6dfc480a987a9703c3822589",
      "f17202996061449e9910645efc42ef1e",
      "01a66678b2b14f2e8a33b459be13b449",
      "66c04c48e1424957babe3b41f3be2ce4",
      "bb88f78c310448fa8fea67f730ae8f5b",
      "381b2574a621442c88b05ab3bf9153b6",
      "96bfe840f36046c281ea6ee13d9afe93",
      "f8e2a2abeef04bfca349013614f0dee6",
      "eef503f505c34d5ebeaf63584337f16f",
      "9bebdc07a75e418ab66e02b37554f003",
      "497b202fbe904477ad67f2734d93813b",
      "12d8e4b33b114e17b567e993be41a403",
      "c46e5476efc944a5b982f5a3fb6a14dc",
      "2ef3bba2b9e34d1cbb4aaba65bad1471",
      "5ef29cdb13144597833fcc47ff8a030b",
      "fe8e054b12b543729132d1146912d326",
      "923902c178db437b84bca647bff69898",
      "8c3b271fafe84041a6ec8bff4026f73c",
      "68c2d4ef209a4094aaec88fdc3a662aa",
      "6296edfd23ea4bcbbc9f82f09e9af66e",
      "c35cd9169ae24a968dac212a0e99a7db",
      "89af8a6a93764f4ea632a2d648efa8bf",
      "61d09fb21f1e47b5ae3e620b2b8c1206",
      "c206623bcaa647feaf7f0f3605dc98c2",
      "9fb7aa5617754784ac453e9d059101ef",
      "ee5107daf39f45a49be268b6e91c9644",
      "6a4e63cb92624f90becf019ebaaa1c5f",
      "1650933105e04a61a1057368b5265db8",
      "00fe0256b6844432a57ae4e312dd37bf",
      "c24a628bbce2479e951fe75d354a8322",
      "8961f1e8f7a94897bbd77876d0dbf2fb"
     ]
    },
    "executionInfo": {
     "elapsed": 6113,
     "status": "ok",
     "timestamp": 1746732759677,
     "user": {
      "displayName": "Sofya Andreyanova",
      "userId": "09495282049770721127"
     },
     "user_tz": -180
    },
    "id": "V9BnQZN9b4dj",
    "outputId": "6177b226-3b48-4ed7-9b25-ece209dfea72"
   },
   "outputs": [],
   "source": [
    "image_emb_pipeline = make_pipeline (\n",
    "    ImageLoader(convert=\"RGB\"),\n",
    "    ClipEncoder()\n",
    ")"
   ]
  },
  {
   "cell_type": "code",
   "execution_count": null,
   "metadata": {
    "colab": {
     "base_uri": "https://localhost:8080/",
     "height": 282
    },
    "executionInfo": {
     "elapsed": 12662,
     "status": "error",
     "timestamp": 1746470606149,
     "user": {
      "displayName": "Sofya Andreyanova",
      "userId": "09495282049770721127"
     },
     "user_tz": -180
    },
    "id": "W-d9rUwY7SH_",
    "outputId": "90094407-93a9-46bd-853a-4e9269bfff31"
   },
   "outputs": [],
   "source": [
    "X = image_emb_pipeline.transform(df['Filepath'].tolist())"
   ]
  },
  {
   "cell_type": "code",
   "execution_count": null,
   "metadata": {
    "id": "NySCAwqf6-tX"
   },
   "outputs": [],
   "source": [
    "y = df.drop(columns=['Filepath'])\n",
    "y"
   ]
  },
  {
   "cell_type": "code",
   "execution_count": null,
   "metadata": {
    "id": "UkGTVA1e_iT0"
   },
   "outputs": [],
   "source": [
    "save_path = \"/content/drive/MyDrive/course_work/embeddings/\"\n",
    "import os\n",
    "os.makedirs(save_path, exist_ok=True)\n",
    "\n",
    "np.save(save_path + \"embeddings.npy\", X)\n",
    "y.to_csv(save_path + \"labels.csv\", index=False)"
   ]
  },
  {
   "cell_type": "code",
   "execution_count": null,
   "metadata": {
    "executionInfo": {
     "elapsed": 741,
     "status": "ok",
     "timestamp": 1746886276376,
     "user": {
      "displayName": "Sofya Andreyanova",
      "userId": "09495282049770721127"
     },
     "user_tz": -180
    },
    "id": "qusjy4kc7MSe"
   },
   "outputs": [],
   "source": [
    "X = np.load(\"embeddings.npy\")\n",
    "y = pd.read_csv(\"labels.csv\")"
   ]
  },
  {
   "cell_type": "code",
   "execution_count": null,
   "metadata": {},
   "outputs": [],
   "source": [
    "y_modif = y.drop(columns=['familiar', 'uncommon', 'atypical', 'unfamiliar', 'common', 'calm'])"
   ]
  },
  {
   "cell_type": "code",
   "execution_count": null,
   "metadata": {
    "colab": {
     "base_uri": "https://localhost:8080/"
    },
    "executionInfo": {
     "elapsed": 41,
     "status": "ok",
     "timestamp": 1746732767505,
     "user": {
      "displayName": "Sofya Andreyanova",
      "userId": "09495282049770721127"
     },
     "user_tz": -180
    },
    "id": "cl9w-xr1wp0g",
    "outputId": "c5a88447-d043-40bc-cba2-19c7d779b6d8"
   },
   "outputs": [],
   "source": [
    "X.shape"
   ]
  },
  {
   "cell_type": "code",
   "execution_count": null,
   "metadata": {
    "colab": {
     "base_uri": "https://localhost:8080/",
     "height": 439
    },
    "executionInfo": {
     "elapsed": 56,
     "status": "ok",
     "timestamp": 1746470626188,
     "user": {
      "displayName": "Sofya Andreyanova",
      "userId": "09495282049770721127"
     },
     "user_tz": -180
    },
    "id": "0j5dj-n4w3qK",
    "outputId": "c09a846a-f925-4195-f919-504e37ceffbb"
   },
   "outputs": [],
   "source": [
    "y.shape"
   ]
  },
  {
   "cell_type": "code",
   "execution_count": null,
   "metadata": {},
   "outputs": [],
   "source": [
    "for trait in y.columns:\n",
    "    counts = y[trait].value_counts(normalize=True)\n",
    "    print(f\"{trait}: {counts.to_dict()}\")"
   ]
  },
  {
   "cell_type": "code",
   "execution_count": null,
   "metadata": {},
   "outputs": [],
   "source": [
    "diffs = 0\n",
    "for col in y.columns:\n",
    "    diffs += abs(2222 - 2 * sum(y[col]))\n",
    "print(diffs // 40)"
   ]
  },
  {
   "cell_type": "code",
   "execution_count": null,
   "metadata": {
    "executionInfo": {
     "elapsed": 36,
     "status": "ok",
     "timestamp": 1746886276416,
     "user": {
      "displayName": "Sofya Andreyanova",
      "userId": "09495282049770721127"
     },
     "user_tz": -180
    },
    "id": "pv6qqrh1gGnr"
   },
   "outputs": [],
   "source": [
    "X_train, X_test, y_train, y_test = train_test_split(X, y, test_size=0.2, random_state=42)"
   ]
  },
  {
   "cell_type": "code",
   "execution_count": null,
   "metadata": {},
   "outputs": [],
   "source": [
    "X_train_modif, X_test_modif, y_train_modif, y_test_modif, image_paths_train, image_paths_test = train_test_split(X, y_modif, image_paths, test_size=0.2, random_state=42)"
   ]
  },
  {
   "cell_type": "code",
   "execution_count": null,
   "metadata": {
    "id": "uP_2Duwm7m_e"
   },
   "outputs": [],
   "source": [
    "models = {\n",
    "    \"KNN\": KNeighborsClassifier(),\n",
    "    \"SVM\": SVC(),\n",
    "    \"Decision Tree\": DecisionTreeClassifier(random_state=42),\n",
    "    \"Random Forest\": RandomForestClassifier(random_state=42),\n",
    "    \"Naive Bayes\": GaussianNB(),\n",
    "    \"LDA\": LinearDiscriminantAnalysis(),\n",
    "    \"Logistic Regression\": LogisticRegression(max_iter=1000),\n",
    "    \"AdaBoost\": AdaBoostClassifier(random_state=42),\n",
    "    \"XGBoost\": XGBClassifier(use_label_encoder=False, eval_metric='logloss', random_state=42)\n",
    "}"
   ]
  },
  {
   "cell_type": "markdown",
   "metadata": {
    "id": "CvGtlE6I8Ky_"
   },
   "source": [
    "## Choosing the model"
   ]
  },
  {
   "cell_type": "code",
   "execution_count": null,
   "metadata": {
    "colab": {
     "base_uri": "https://localhost:8080/"
    },
    "executionInfo": {
     "elapsed": 454308,
     "status": "ok",
     "timestamp": 1746471682620,
     "user": {
      "displayName": "Sofya Andreyanova",
      "userId": "09495282049770721127"
     },
     "user_tz": -180
    },
    "id": "_Hh61aXP8MNS",
    "outputId": "0f958eda-93d4-40b9-cfdc-8dba0a94b7f9"
   },
   "outputs": [],
   "source": [
    "best_models = {}\n",
    "\n",
    "for trait in y.columns:\n",
    "    print(f\"Training for {trait}...\")\n",
    "\n",
    "    y_trait = y_train[trait]\n",
    "\n",
    "    best_accuracy = 0\n",
    "    best_model = None\n",
    "\n",
    "    for name, model in models.items():\n",
    "      model.fit(X_train, y_trait)\n",
    "      y_pred = model.predict(X_test)\n",
    "      accuracy = accuracy_score(y_test[trait], y_pred)\n",
    "\n",
    "      print(f\"{name} Accuracy for {trait}: {accuracy:.4f}\")\n",
    "\n",
    "      if accuracy > best_accuracy:\n",
    "            best_accuracy = accuracy\n",
    "            best_model = model\n",
    "    best_models[trait] = {\"model\": best_model, \"accuracy\": best_accuracy}\n"
   ]
  },
  {
   "cell_type": "code",
   "execution_count": null,
   "metadata": {
    "colab": {
     "base_uri": "https://localhost:8080/"
    },
    "executionInfo": {
     "elapsed": 18,
     "status": "ok",
     "timestamp": 1746471824827,
     "user": {
      "displayName": "Sofya Andreyanova",
      "userId": "09495282049770721127"
     },
     "user_tz": -180
    },
    "id": "I02vbzg5zTuG",
    "outputId": "873ff425-7217-45ab-8414-a8dc7fa32e4d"
   },
   "outputs": [],
   "source": [
    "for trait in y.columns:\n",
    "  print(f\"The best for {trait}: {best_models[trait]}\")"
   ]
  },
  {
   "cell_type": "code",
   "execution_count": null,
   "metadata": {},
   "outputs": [],
   "source": [
    "from collections import Counter\n",
    "\n",
    "model_names = [v['model'] for v in best_models.values()]\n",
    "model_wins = Counter(model_names)\n",
    "\n",
    "for model, count in model_wins.most_common():\n",
    "    print(f\"{model}: {count} раз\")"
   ]
  },
  {
   "cell_type": "markdown",
   "metadata": {
    "id": "fNI52A_E1c83"
   },
   "source": [
    "## Logistic regression"
   ]
  },
  {
   "cell_type": "markdown",
   "metadata": {
    "id": "_EWsuqR1ORSJ"
   },
   "source": [
    "```\n",
    "class sklearn.linear_model.LogisticRegression(\n",
    "  penalty='l2',\n",
    "  dual=False,\n",
    "  tol=0.0001,\n",
    "  C=1.0,\n",
    "  fit_intercept=True,\n",
    "  intercept_scaling=1,\n",
    "  class_weight=None,\n",
    "  random_state=None,\n",
    "  solver='lbfgs',\n",
    "  max_iter=100,\n",
    "  multi_class='deprecated',\n",
    "  verbose=0,\n",
    "  warm_start=False,\n",
    "  n_jobs=None,\n",
    "  l1_ratio=None)\n",
    "```"
   ]
  },
  {
   "cell_type": "code",
   "execution_count": null,
   "metadata": {
    "executionInfo": {
     "elapsed": 30,
     "status": "ok",
     "timestamp": 1746886276477,
     "user": {
      "displayName": "Sofya Andreyanova",
      "userId": "09495282049770721127"
     },
     "user_tz": -180
    },
    "id": "MsMIW1Dc1gzP"
   },
   "outputs": [],
   "source": [
    "log_reg_initial_model = LogisticRegression(max_iter=1000)\n",
    "\n",
    "clf = MultiOutputClassifier(log_reg_initial_model)"
   ]
  },
  {
   "cell_type": "code",
   "execution_count": null,
   "metadata": {
    "executionInfo": {
     "elapsed": 135862,
     "status": "ok",
     "timestamp": 1746886412342,
     "user": {
      "displayName": "Sofya Andreyanova",
      "userId": "09495282049770721127"
     },
     "user_tz": -180
    },
    "id": "EMDoFHonXyM-"
   },
   "outputs": [],
   "source": [
    "clf.fit(X_train, y_train)\n",
    "y_pred = clf.predict(X_test)"
   ]
  },
  {
   "cell_type": "code",
   "execution_count": null,
   "metadata": {},
   "outputs": [],
   "source": [
    "def avg_acc_score(y_test, y_pred):\n",
    "  return np.mean([accuracy_score(y_test.iloc[:, i], y_pred[:, i]) for i in range(y_test.shape[1])])"
   ]
  },
  {
   "cell_type": "code",
   "execution_count": null,
   "metadata": {
    "colab": {
     "base_uri": "https://localhost:8080/"
    },
    "executionInfo": {
     "elapsed": 148,
     "status": "ok",
     "timestamp": 1746869606326,
     "user": {
      "displayName": "Sofya Andreyanova",
      "userId": "09495282049770721127"
     },
     "user_tz": -180
    },
    "id": "mVe1P39BbVj8",
    "outputId": "f1072866-e7c3-41b7-beaf-b35f06072451"
   },
   "outputs": [],
   "source": [
    "initial_accuracy = avg_acc_score(y_test, y_pred)\n",
    "print(\"Изначальная Accuracy:\", initial_accuracy.round(3))"
   ]
  },
  {
   "cell_type": "code",
   "execution_count": null,
   "metadata": {},
   "outputs": [],
   "source": [
    "pipeline = Pipeline([\n",
    "    (\"scaler\", StandardScaler()),\n",
    "    (\"pca\", PCA()),\n",
    "    (\"clf\", clf)\n",
    "])"
   ]
  },
  {
   "cell_type": "code",
   "execution_count": null,
   "metadata": {
    "colab": {
     "base_uri": "https://localhost:8080/",
     "height": 207
    },
    "executionInfo": {
     "elapsed": 201,
     "status": "error",
     "timestamp": 1746886164830,
     "user": {
      "displayName": "Sofya Andreyanova",
      "userId": "09495282049770721127"
     },
     "user_tz": -180
    },
    "id": "qKCvu3eKc5C2",
    "outputId": "17cdcb74-cc59-494a-f4e3-30427bded66a"
   },
   "outputs": [],
   "source": [
    "param_grid = {\n",
    "    \"pca__n_components\": [8, 16, 32, 64, 128],\n",
    "    \"clf__estimator__penalty\": ['l2'],\n",
    "    \"clf__estimator__C\": [0.1, 1, 10],\n",
    "    \"clf__estimator__class_weight\": [None, 'balanced'],\n",
    "    \"clf__estimator__solver\": ['lbfgs', 'liblinear', 'newton-cg','newton-cholesky', 'sag', 'saga'],\n",
    "    \"clf__estimator__tol\": [1e-4, 1e-3]\n",
    "}\n",
    "\n",
    "log_reg_cv = GridSearchCV(\n",
    "    estimator=pipeline,\n",
    "    param_grid=param_grid,\n",
    "    scoring=make_scorer(avg_acc_score),\n",
    "    cv=5,\n",
    "    verbose=4,\n",
    "    n_jobs=-1\n",
    ")\n",
    "\n",
    "log_reg_cv.fit(X_train, y_train)"
   ]
  },
  {
   "cell_type": "code",
   "execution_count": null,
   "metadata": {
    "id": "jmHznnIucyNB"
   },
   "outputs": [],
   "source": [
    "print(\"Лучшие параметры:\", log_reg_cv.best_params_)\n",
    "print(\"Средняя Accuracy:\", log_reg_cv.best_score_)"
   ]
  },
  {
   "cell_type": "code",
   "execution_count": null,
   "metadata": {
    "id": "J7qnKgXgqAjH"
   },
   "outputs": [],
   "source": [
    "param_grid_2 = {\n",
    "    \"pca__n_components\": [8, 16, 32, 64],\n",
    "    \"clf__estimator__penalty\": ['l1'],\n",
    "    \"clf__estimator__C\": [0.01, 0.1, 1],\n",
    "    \"clf__estimator__solver\": ['liblinear', 'saga'],\n",
    "    \"clf__estimator__tol\": [1e-5, 1e-4]\n",
    "\n",
    "}\n",
    "\n",
    "log_reg_cv_2 = GridSearchCV(\n",
    "    estimator=pipeline,\n",
    "    param_grid=param_grid_2,\n",
    "    scoring=make_scorer(avg_acc_score),\n",
    "    cv=5,\n",
    "    verbose=4,\n",
    "    n_jobs=-1\n",
    ")\n",
    "\n",
    "log_reg_cv_2.fit(X_train, y_train)"
   ]
  },
  {
   "cell_type": "code",
   "execution_count": null,
   "metadata": {
    "id": "3-oOXX9nEtw3"
   },
   "outputs": [],
   "source": [
    "best_params = log_reg_cv_2.best_params_\n",
    "print(\"Лучшие параметры:\", best_params)\n",
    "print(\"Средняя Accuracy:\", log_reg_cv_2.best_score_)"
   ]
  },
  {
   "cell_type": "code",
   "execution_count": null,
   "metadata": {},
   "outputs": [],
   "source": [
    "log_reg_final_model_try = log_reg_cv_2.best_estimator_\n",
    "y_pred = log_reg_final_model_try.predict(X_test)\n",
    "accuracy = avg_acc_score(y_test, y_pred)\n",
    "print(f\"Best model accuracy: {accuracy:.4f}\")"
   ]
  },
  {
   "cell_type": "code",
   "execution_count": null,
   "metadata": {},
   "outputs": [],
   "source": [
    "y_pred_proba = log_reg_final_model_try.predict_proba(X_test)\n",
    "y_pred_proba = np.transpose(y_pred_proba, (1, 0, 2))\n",
    "\n",
    "roc_auc_scores = {}\n",
    "\n",
    "trait_names = y_test.columns\n",
    "for i, trait_name in enumerate(trait_names):\n",
    "    auc = roc_auc_score(\n",
    "        y_test.iloc[:, i],\n",
    "        y_pred_proba[:, i, 1]\n",
    "    )\n",
    "    roc_auc_scores[trait_name] = auc\n",
    "\n",
    "roc_auc_scores = pd.DataFrame.from_dict(\n",
    "    roc_auc_scores, \n",
    "    orient='index', \n",
    "    columns=['AUC']\n",
    ").sort_values('AUC', ascending=False)\n",
    "\n",
    "\n",
    "print(roc_auc_scores)"
   ]
  },
  {
   "cell_type": "code",
   "execution_count": null,
   "metadata": {},
   "outputs": [],
   "source": [
    "param_grid_modif = {\n",
    "    \"pca__n_components\": [8, 16, 32, 64],\n",
    "    \"clf__estimator__penalty\": ['l1'],\n",
    "    \"clf__estimator__C\": [0.01, 0.1, 1],\n",
    "    \"clf__estimator__solver\": ['liblinear', 'saga'],\n",
    "    \"clf__estimator__tol\": [1e-5, 1e-4]\n",
    "\n",
    "}\n",
    "\n",
    "log_reg_cv_modif = GridSearchCV(\n",
    "    estimator=pipeline,\n",
    "    param_grid=param_grid_modif,\n",
    "    scoring=make_scorer(avg_acc_score),\n",
    "    cv=5,\n",
    "    verbose=4,\n",
    "    n_jobs=-1\n",
    ")\n",
    "\n",
    "log_reg_cv_modif.fit(X_train_modif, y_train_modif)"
   ]
  },
  {
   "cell_type": "code",
   "execution_count": null,
   "metadata": {},
   "outputs": [],
   "source": [
    "print(\"Лучшие параметры:\", log_reg_cv_modif.best_params_)\n",
    "print(\"Средняя Accuracy:\", log_reg_cv_modif.best_score_)"
   ]
  },
  {
   "cell_type": "code",
   "execution_count": null,
   "metadata": {},
   "outputs": [],
   "source": [
    "param_grid_modif_2 = {\n",
    "    \"pca__n_components\": [8, 16, 32, 64, 128],\n",
    "    \"clf__estimator__penalty\": ['l2'],\n",
    "    \"clf__estimator__C\": [0.1, 1, 10],\n",
    "    \"clf__estimator__class_weight\": [None, 'balanced'],\n",
    "    \"clf__estimator__solver\": ['lbfgs', 'liblinear', 'newton-cg','newton-cholesky', 'sag', 'saga'],\n",
    "    \"clf__estimator__tol\": [1e-4, 1e-3]\n",
    "\n",
    "}\n",
    "\n",
    "log_reg_cv_modif_2 = GridSearchCV(\n",
    "    estimator=pipeline,\n",
    "    param_grid=param_grid_modif_2,\n",
    "    scoring=make_scorer(avg_acc_score),\n",
    "    cv=5,\n",
    "    verbose=4,\n",
    "    n_jobs=-1\n",
    ")\n",
    "\n",
    "log_reg_cv_modif_2.fit(X_train_modif, y_train_modif)"
   ]
  },
  {
   "cell_type": "code",
   "execution_count": null,
   "metadata": {},
   "outputs": [],
   "source": [
    "print(\"Лучшие параметры:\", log_reg_cv_modif_2.best_params_)\n",
    "print(\"Средняя Accuracy:\", log_reg_cv_modif_2.best_score_)"
   ]
  },
  {
   "cell_type": "code",
   "execution_count": null,
   "metadata": {},
   "outputs": [],
   "source": [
    "log_reg_cv_modif = log_reg_cv_modif.best_estimator_\n",
    "y_pred = log_reg_cv_modif.predict(X_test_modif)\n",
    "accuracy = avg_acc_score(y_test_modif, y_pred)\n",
    "print(f\"Best model accuracy: {accuracy:.4f}\")"
   ]
  },
  {
   "cell_type": "code",
   "execution_count": null,
   "metadata": {},
   "outputs": [],
   "source": [
    "log_reg_cv_modif_2 = log_reg_cv_modif_2.best_estimator_\n",
    "y_pred = log_reg_cv_modif_2.predict(X_test_modif)\n",
    "accuracy = avg_acc_score(y_test_modif, y_pred)\n",
    "print(f\"Best model accuracy: {accuracy:.4f}\")"
   ]
  },
  {
   "cell_type": "markdown",
   "metadata": {},
   "source": [
    "## Results"
   ]
  },
  {
   "cell_type": "code",
   "execution_count": null,
   "metadata": {},
   "outputs": [],
   "source": [
    "log_reg_final_model = log_reg_cv_modif"
   ]
  },
  {
   "cell_type": "code",
   "execution_count": null,
   "metadata": {},
   "outputs": [],
   "source": [
    "y_pred_proba = log_reg_final_model.predict_proba(X_test)\n",
    "y_pred_proba = np.transpose(y_pred_proba, (1, 0, 2))\n",
    "\n",
    "roc_auc_scores = {}\n",
    "\n",
    "trait_names = y_test_modif.columns\n",
    "for i, trait_name in enumerate(trait_names):\n",
    "    auc = roc_auc_score(\n",
    "        y_test_modif.iloc[:, i],\n",
    "        y_pred_proba[:, i, 1]\n",
    "    )\n",
    "    roc_auc_scores[trait_name] = auc\n",
    "\n",
    "roc_auc_scores = pd.DataFrame.from_dict(\n",
    "    roc_auc_scores, \n",
    "    orient='index', \n",
    "    columns=['AUC']\n",
    ").sort_values('AUC', ascending=False)\n",
    "\n",
    "\n",
    "print(roc_auc_scores)"
   ]
  },
  {
   "cell_type": "code",
   "execution_count": null,
   "metadata": {},
   "outputs": [],
   "source": [
    "predict = log_reg_final_model.predict(X_test_modif[0].reshape(1, -1))[0]\n",
    "predict"
   ]
  },
  {
   "cell_type": "code",
   "execution_count": null,
   "metadata": {},
   "outputs": [],
   "source": [
    "from PIL import Image\n",
    "\n",
    "# img = Image.open(\"Aaron_Dollar_13_oval.jpg\")\n",
    "\n",
    "df_compare = pd.DataFrame({\n",
    "    \"Черта\": traits,\n",
    "    \"Аннотация\": y_test_modif.values[0],\n",
    "    \"Предсказание\": predict\n",
    "})\n",
    "display(df_compare)"
   ]
  },
  {
   "cell_type": "code",
   "execution_count": null,
   "metadata": {},
   "outputs": [],
   "source": [
    "X_test.shape"
   ]
  },
  {
   "cell_type": "code",
   "execution_count": null,
   "metadata": {},
   "outputs": [],
   "source": [
    "pca = PCA(n_components=64)\n",
    "X_pca = pca.fit_transform(X)\n",
    "np.sum(pca.explained_variance_ratio_)"
   ]
  },
  {
   "cell_type": "code",
   "execution_count": null,
   "metadata": {},
   "outputs": [],
   "source": [
    "from PIL import Image\n",
    "img1 = \"610900192_6a54ec9688_o.jpg\"\n",
    "img2 = \"5045855615_f0419390bf_b.jpg\"\n",
    "\n",
    "X_example = image_emb_pipeline.transform([img1, img2])\n",
    "y_pred_example = log_reg_final_model.predict(X_example)"
   ]
  },
  {
   "cell_type": "code",
   "execution_count": null,
   "metadata": {},
   "outputs": [],
   "source": [
    "df_compare = pd.DataFrame({\n",
    "    \"Черта\": trait_names,\n",
    "    \"Предсказание1\": y_pred_example[0],\n",
    "    \"Предсказание2\": y_pred_example[1]\n",
    "})\n",
    "df_compare"
   ]
  }
 ],
 "metadata": {
  "colab": {
   "authorship_tag": "ABX9TyNP19KryfUtpouJpBJqDAft",
   "collapsed_sections": [
    "j2n1xQdc4CLC",
    "9EZ-wRY85CE1",
    "Kx7EbENE5jQA",
    "nrrc5tA58Eyo",
    "CvGtlE6I8Ky_",
    "er4TH5GPGKSR"
   ],
   "provenance": []
  },
  "kernelspec": {
   "display_name": "Python 3",
   "name": "python3"
  },
  "language_info": {
   "codemirror_mode": {
    "name": "ipython",
    "version": 3
   },
   "file_extension": ".py",
   "mimetype": "text/x-python",
   "name": "python",
   "nbconvert_exporter": "python",
   "pygments_lexer": "ipython3",
   "version": "3.12.7"
  }
 },
 "nbformat": 4,
 "nbformat_minor": 0
}
